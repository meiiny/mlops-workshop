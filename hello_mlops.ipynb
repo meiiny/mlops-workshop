{
 "cells": [
  {
   "cell_type": "code",
   "execution_count": null,
   "metadata": {},
   "outputs": [],
   "source": []
  }
 ],
 "metadata": {
  "kernelspec": {
   "display_name": "Python 3.9.7 ('base')",
   "language": "python",
   "name": "python3"
  },
  "language_info": {
   "name": "python",
   "version": "3.9.7"
  },
  "orig_nbformat": 4,
  "vscode": {
   "interpreter": {
    "hash": "6c93fe6e0cd13f628245112ebedbc53bcd987152273ec01dd9f6f608504b219d"
   }
  }
 },
 "nbformat": 4,
 "nbformat_minor": 2
}
